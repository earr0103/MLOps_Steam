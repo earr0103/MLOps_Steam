{
 "cells": [
  {
   "cell_type": "code",
   "execution_count": 8,
   "metadata": {},
   "outputs": [
    {
     "data": {
      "text/plain": [
       "'\\n\\nUna vez que toda la data es consumible por la API, está lista para consumir por los departamentos de Analytics y Machine Learning, y nuestro EDA nos permite entender bien los datos a los que tenemos acceso, es hora de entrenar nuestro modelo de machine learning para armar un sistema de recomendación. Para ello, te ofrecen dos propuestas de trabajo: En la primera, el modelo deberá tener una relación ítem-ítem, esto es se toma un item, en base a que tan similar esa ese ítem al resto, se recomiendan similares. Aquí el input es un juego y el output es una lista de juegos recomendados, para ello recomendamos aplicar la similitud del coseno. La otra propuesta para el sistema de recomendación debe aplicar el filtro user-item, esto es tomar un usuario, se encuentran usuarios similares y se recomiendan ítems que a esos usuarios similares les gustaron. En este caso el input es un usuario y el output es una lista de juegos que se le recomienda a ese usuario, en general se explican como “A usuarios que son similares a tí también les gustó…”. Deben crear al menos uno de los dos sistemas de recomendación (Si se atreven a tomar el desafío, para mostrar su capacidad al equipo, ¡pueden hacer ambos!). Tu líder pide que el modelo derive obligatoriamente en un GET/POST en la API símil al siguiente formato:\\n\\nSi es un sistema de recomendación item-item:\\n\\ndef recomendacion_juego( id de producto ): Ingresando el id de producto, deberíamos recibir una lista con 5 juegos recomendados similares al ingresado.\\n\\nEn este Ipynb haremos el modelo de machine learning y en el main.py haremos el GET/POST.\\n\\n'"
      ]
     },
     "execution_count": 8,
     "metadata": {},
     "output_type": "execute_result"
    }
   ],
   "source": [
    "'''\n",
    "\n",
    "Una vez que toda la data es consumible por la API, está lista para consumir por los departamentos de Analytics y Machine Learning, y nuestro EDA nos permite entender bien los datos a los que tenemos acceso, es hora de entrenar nuestro modelo de machine learning para armar un sistema de recomendación. Para ello, te ofrecen dos propuestas de trabajo: En la primera, el modelo deberá tener una relación ítem-ítem, esto es se toma un item, en base a que tan similar esa ese ítem al resto, se recomiendan similares. Aquí el input es un juego y el output es una lista de juegos recomendados, para ello recomendamos aplicar la similitud del coseno. La otra propuesta para el sistema de recomendación debe aplicar el filtro user-item, esto es tomar un usuario, se encuentran usuarios similares y se recomiendan ítems que a esos usuarios similares les gustaron. En este caso el input es un usuario y el output es una lista de juegos que se le recomienda a ese usuario, en general se explican como “A usuarios que son similares a tí también les gustó…”. Deben crear al menos uno de los dos sistemas de recomendación (Si se atreven a tomar el desafío, para mostrar su capacidad al equipo, ¡pueden hacer ambos!). Tu líder pide que el modelo derive obligatoriamente en un GET/POST en la API símil al siguiente formato:\n",
    "\n",
    "Si es un sistema de recomendación item-item:\n",
    "\n",
    "def recomendacion_juego( id de producto ): Ingresando el id de producto, deberíamos recibir una lista con 5 juegos recomendados similares al ingresado.\n",
    "\n",
    "En este Ipynb haremos el modelo de machine learning y en el main.py haremos el GET/POST.\n",
    "\n",
    "'''"
   ]
  },
  {
   "cell_type": "code",
   "execution_count": 18,
   "metadata": {},
   "outputs": [],
   "source": [
    "#Agregamos las librerias necesarias\n",
    "import pandas as pd\n",
    "import numpy as np\n",
    "import matplotlib.pyplot as plt\n",
    "import seaborn as sns\n",
    "import sklearn as skl\n",
    "from sklearn.feature_extraction.text import TfidfVectorizer\n",
    "from sklearn.metrics.pairwise import cosine_similarity\n",
    "from sklearn.decomposition import TruncatedSVD"
   ]
  },
  {
   "cell_type": "code",
   "execution_count": 10,
   "metadata": {},
   "outputs": [],
   "source": [
    "#Importamos el parquet \n",
    "\n",
    "df = pd.read_parquet('df_useritemsgames.parquet')"
   ]
  },
  {
   "cell_type": "code",
   "execution_count": 14,
   "metadata": {},
   "outputs": [
    {
     "data": {
      "text/plain": [
       "user_id                object\n",
       "funny                  object\n",
       "posted                 object\n",
       "last_edited            object\n",
       "item_id                 int64\n",
       "recommend                bool\n",
       "sentiment_analysis      int64\n",
       "items_count             int64\n",
       "steam_id                int64\n",
       "item_name              object\n",
       "playtime_forever      float64\n",
       "playtime_2weeks       float64\n",
       "publisher              object\n",
       "genres                 object\n",
       "title                  object\n",
       "release_date           object\n",
       "tags                   object\n",
       "specs                  object\n",
       "price                 float64\n",
       "early_access             bool\n",
       "id                      int64\n",
       "developer              object\n",
       "year                    int64\n",
       "MoneySpend            float64\n",
       "contenido_free           bool\n",
       "dtype: object"
      ]
     },
     "execution_count": 14,
     "metadata": {},
     "output_type": "execute_result"
    }
   ],
   "source": [
    "#Ver los tipos de datos de las columnas\n",
    "\n",
    "df.dtypes"
   ]
  },
  {
   "cell_type": "code",
   "execution_count": 21,
   "metadata": {},
   "outputs": [],
   "source": [
    "#Empezamos la creacion del modelo de machine learning para recomendacion de juegos\n",
    "# Seleccionar columnas relevantes\n",
    "df = df[['id', 'title']]\n",
    "\n",
    "# Eliminar duplicados\n",
    "df = df.drop_duplicates(subset='id')\n",
    "\n",
    "# Llenar valores nulos\n",
    "df = df.dropna()\n",
    "\n",
    "# Crear una matriz TF-IDF para los títulos de los juegos\n",
    "tfidf_vectorizer = TfidfVectorizer(stop_words='english')\n",
    "tfidf_matrix = tfidf_vectorizer.fit_transform(df['title'])\n",
    "\n",
    "# Calcular la similitud del coseno entre los juegos\n",
    "cosine_sim = cosine_similarity(tfidf_matrix, tfidf_matrix)"
   ]
  },
  {
   "cell_type": "code",
   "execution_count": 22,
   "metadata": {},
   "outputs": [],
   "source": [
    "# Crear un mapeo inverso de índices y títulos de juegos\n",
    "\n",
    "indices = pd.Series(df.index, index=df['title']).drop_duplicates()\n",
    "\n",
    "# Función que obtiene el top 10 de juegos más similares\n",
    "\n",
    "def get_recommendations(title, cosine_sim=cosine_sim):\n",
    "    # Obtener el índice del juego que coincide con el título\n",
    "    idx = indices[title]\n",
    "\n",
    "    # Obtener las puntuaciones de similitud entre juegos\n",
    "    sim_scores = list(enumerate(cosine_sim[idx]))\n",
    "\n",
    "    # Ordenar los juegos según las puntuaciones de similitud\n",
    "    sim_scores = sorted(sim_scores, key=lambda x: x[1], reverse=True)\n",
    "\n",
    "    # Obtener las puntuaciones de los 10 juegos más similares\n",
    "    sim_scores = sim_scores[1:11]\n",
    "\n",
    "    # Obtener los índices de los juegos\n",
    "    game_indices = [i[0] for i in sim_scores]\n",
    "\n",
    "    # Devolver los 10 juegos más similares\n",
    "    return df['title'].iloc[game_indices]\n"
   ]
  },
  {
   "cell_type": "code",
   "execution_count": 23,
   "metadata": {},
   "outputs": [
    {
     "data": {
      "text/html": [
       "<div>\n",
       "<style scoped>\n",
       "    .dataframe tbody tr th:only-of-type {\n",
       "        vertical-align: middle;\n",
       "    }\n",
       "\n",
       "    .dataframe tbody tr th {\n",
       "        vertical-align: top;\n",
       "    }\n",
       "\n",
       "    .dataframe thead th {\n",
       "        text-align: right;\n",
       "    }\n",
       "</style>\n",
       "<table border=\"1\" class=\"dataframe\">\n",
       "  <thead>\n",
       "    <tr style=\"text-align: right;\">\n",
       "      <th></th>\n",
       "      <th>id</th>\n",
       "      <th>title</th>\n",
       "    </tr>\n",
       "  </thead>\n",
       "  <tbody>\n",
       "    <tr>\n",
       "      <th>0</th>\n",
       "      <td>10</td>\n",
       "      <td>Counter-Strike</td>\n",
       "    </tr>\n",
       "    <tr>\n",
       "      <th>16302</th>\n",
       "      <td>20</td>\n",
       "      <td>Team Fortress Classic</td>\n",
       "    </tr>\n",
       "    <tr>\n",
       "      <th>32027</th>\n",
       "      <td>30</td>\n",
       "      <td>Day of Defeat</td>\n",
       "    </tr>\n",
       "    <tr>\n",
       "      <th>47071</th>\n",
       "      <td>50</td>\n",
       "      <td>Half-Life: Opposing Force</td>\n",
       "    </tr>\n",
       "    <tr>\n",
       "      <th>58006</th>\n",
       "      <td>300</td>\n",
       "      <td>Day of Defeat: Source</td>\n",
       "    </tr>\n",
       "    <tr>\n",
       "      <th>...</th>\n",
       "      <td>...</td>\n",
       "      <td>...</td>\n",
       "    </tr>\n",
       "    <tr>\n",
       "      <th>6081336</th>\n",
       "      <td>260250</td>\n",
       "      <td>Blood of the Werewolf</td>\n",
       "    </tr>\n",
       "    <tr>\n",
       "      <th>6081406</th>\n",
       "      <td>273070</td>\n",
       "      <td>The Last Federation</td>\n",
       "    </tr>\n",
       "    <tr>\n",
       "      <th>6081473</th>\n",
       "      <td>420740</td>\n",
       "      <td>The Deed</td>\n",
       "    </tr>\n",
       "    <tr>\n",
       "      <th>6081555</th>\n",
       "      <td>310850</td>\n",
       "      <td>Onikira - Demon Killer</td>\n",
       "    </tr>\n",
       "    <tr>\n",
       "      <th>6081585</th>\n",
       "      <td>331390</td>\n",
       "      <td>Winged Sakura: Mindy's Arc</td>\n",
       "    </tr>\n",
       "  </tbody>\n",
       "</table>\n",
       "<p>2951 rows × 2 columns</p>\n",
       "</div>"
      ],
      "text/plain": [
       "             id                       title\n",
       "0            10              Counter-Strike\n",
       "16302        20       Team Fortress Classic\n",
       "32027        30               Day of Defeat\n",
       "47071        50   Half-Life: Opposing Force\n",
       "58006       300       Day of Defeat: Source\n",
       "...         ...                         ...\n",
       "6081336  260250       Blood of the Werewolf\n",
       "6081406  273070         The Last Federation\n",
       "6081473  420740                    The Deed\n",
       "6081555  310850      Onikira - Demon Killer\n",
       "6081585  331390  Winged Sakura: Mindy's Arc\n",
       "\n",
       "[2951 rows x 2 columns]"
      ]
     },
     "execution_count": 23,
     "metadata": {},
     "output_type": "execute_result"
    }
   ],
   "source": [
    "#Lectura del df\n",
    "\n",
    "df"
   ]
  }
 ],
 "metadata": {
  "kernelspec": {
   "display_name": "venv",
   "language": "python",
   "name": "python3"
  },
  "language_info": {
   "codemirror_mode": {
    "name": "ipython",
    "version": 3
   },
   "file_extension": ".py",
   "mimetype": "text/x-python",
   "name": "python",
   "nbconvert_exporter": "python",
   "pygments_lexer": "ipython3",
   "version": "3.11.4"
  },
  "orig_nbformat": 4
 },
 "nbformat": 4,
 "nbformat_minor": 2
}
